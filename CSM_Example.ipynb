{
 "cells": [
  {
   "cell_type": "markdown",
   "metadata": {},
   "source": [
    "# Example of cryptostatemachine\n",
    "Simulate P2P think-lending with microinsurance with Python module *cryptostatemachine*\n",
    "\n",
    "## Characters\n",
    "Alice: Has digital camera she rarely uses\n",
    "Bob: Want digital camera for family bbq next weekend\n",
    "AZ: Offers novel, exciting microinsurance solutions on the blockchain\n",
    "\n",
    "## Data structures\n",
    "*StateMachine*: a directed-graph based Python class implementation of a state-machine with interactions encoded in both the graph structure and ornamentation. As state evolves, crytpographic Bitcoin-like transaction data is exported to a database (currently json file, next step: blockchain)\n",
    "\n",
    "*SimpleSM*: descendant of StateMachine, with fixed graph structure for simplest P2P thing-lending work flows."
   ]
  },
  {
   "cell_type": "code",
   "execution_count": 55,
   "metadata": {
    "collapsed": false
   },
   "outputs": [],
   "source": [
    "import os\n",
    "import sys\n",
    "import ecdsa as ec #Pure Python elliptic curve cryptography\n",
    "import binascii"
   ]
  },
  {
   "cell_type": "code",
   "execution_count": 56,
   "metadata": {
    "collapsed": false
   },
   "outputs": [],
   "source": [
    "# Attach local path where \n",
    "module_path = os.path.abspath(os.path.join('PycharmProjects/csm'))\n",
    "\n",
    "if module_path not in sys.path:\n",
    "    sys.path.append(module_path)\n"
   ]
  },
  {
   "cell_type": "code",
   "execution_count": 57,
   "metadata": {
    "collapsed": false
   },
   "outputs": [
    {
     "data": {
      "text/plain": [
       "<module 'cryptostatemachine.cryptostatemachine' from '/home/pavel/PycharmProjects/csm/cryptostatemachine/cryptostatemachine.pyc'>"
      ]
     },
     "execution_count": 57,
     "metadata": {},
     "output_type": "execute_result"
    }
   ],
   "source": [
    "import cryptostatemachine.cryptostatemachine as csm\n",
    "reload(csm)"
   ]
  },
  {
   "cell_type": "markdown",
   "metadata": {},
   "source": [
    "Define the characters"
   ]
  },
  {
   "cell_type": "code",
   "execution_count": 92,
   "metadata": {
    "collapsed": false
   },
   "outputs": [
    {
     "name": "stdout",
     "output_type": "stream",
     "text": [
      "Alice's public key: 85b18e309b78e69d167f1c9f6813b0daf8c0b6f15b6836aab0933e02b64fd370937bdb4a008187e4683c1f9c7d3b239a \n",
      "\n",
      "Bob's public key: 8734ef558150511a659a86379cc6fbeb48348b84b002cee090246bf7c59ea04b4216df3755ea2553bb020aca8bd191f9 \n",
      "\n",
      "AZ public key: 07e2b01b2408325cceea9724fb1aac1e903dfca129c033f30fe1486a7c14fbc766c8fd04be2e4f3664654e89f1908dea \n",
      "\n"
     ]
    }
   ],
   "source": [
    "# Issuer\n",
    "alice_priv = ec.SigningKey.generate()\n",
    "alice_priv_hex = binascii.b2a_hex(alice_priv.to_string())\n",
    "alice_pub = alice_priv.get_verifying_key()\n",
    "alice_pub_hex = binascii.b2a_hex(alice_pub.to_string())\n",
    "print 'Alice\\'s public key:', alice_pub_hex, '\\n'\n",
    "\n",
    "# Interested party\n",
    "bob_priv = ec.SigningKey.generate()\n",
    "bob_priv_hex = binascii.b2a_hex(bob_priv.to_string())\n",
    "bob_pub = bob_priv.get_verifying_key()\n",
    "bob_pub_hex = binascii.b2a_hex(bob_pub.to_string())\n",
    "print 'Bob\\'s public key:', bob_pub_hex, '\\n'\n",
    "\n",
    "# Microinsurer\n",
    "az_priv = ec.SigningKey.generate()\n",
    "az_priv_hex = binascii.b2a_hex(az_priv.to_string())\n",
    "az_pub = az_priv.get_verifying_key()\n",
    "az_pub_hex = binascii.b2a_hex(az_pub.to_string())\n",
    "print 'AZ public key:', az_pub_hex, '\\n'\n",
    "\n",
    "# P2P platform\n",
    "p2p_priv = ec.SigningKey.generate()\n",
    "p2p_priv_hex = binascii.b2a_hex(p2p_priv.to_string())\n",
    "p2p_pub = p2p_priv.get_verifying_key()\n",
    "p2p_pub_hex = binascii.b2a_hex(p2p_pub.to_string())\n",
    "#print 'P2P public key:', p2p_pub\n",
    "\n",
    "# JSON file to hold transaction data for blockchain (mock-up)\n",
    "db_file = 'p2pthing.json' # Output file for transaction data\n"
   ]
  },
  {
   "cell_type": "markdown",
   "metadata": {},
   "source": [
    "Let's look at what is inside an instance of a simple csm. Note that dictionaries in Python are sorted lexicographically by their key values (this is a good thing to ensure well-definedness)."
   ]
  },
  {
   "cell_type": "code",
   "execution_count": 48,
   "metadata": {
    "collapsed": false
   },
   "outputs": [
    {
     "name": "stdout",
     "output_type": "stream",
     "text": [
      "Initial Graph Nodes: \n",
      "['returned', 'offered', 'initial', 'transferred', 'insured', 'interested'] \n",
      "\n",
      "Initial Graph Edges: \n",
      "[('offered', 'insured'), ('offered', 'interested'), ('initial', 'statehashdigest'), ('initial', 'offered'), ('initial', 'toby'), ('transferred', 'returned'), ('interested', 'transferred')] \n",
      "\n",
      "Initial Node Decoration: \n",
      "{'statehashdigest': '2a51a0eb741b3efd03e5b89152d64f4f1d950c3bbb8c9897d4a5fddaa42105f9', 'offered': {}, 'toby': '04020c7060710fe5ec5311310514268de047e9792d94f763d053b6f5f4a4399daf3e350bb82e00a7df04723840d22dcf6093213dd2f5adcf05bae1353aac93f301'} \n",
      "\n",
      "Instance time stame: \n",
      "9f762f41a1d8b7fa0ce2f8b2edf14d10d47df34311ac1fcc75ef4b47bc5f4b72 \n",
      "\n",
      "Initial instance digest: \n",
      "2a51a0eb741b3efd03e5b89152d64f4f1d950c3bbb8c9897d4a5fddaa42105f9 \n",
      "\n"
     ]
    }
   ],
   "source": [
    "# Post offer of camera on P2P platform, back-end creates instance of SimpleSM\n",
    "ssm = csm.SimpleSM(p2p_pub) # Initialize, and track which p2p platform is calling\n",
    "# Initial graph\n",
    "\n",
    "print 'Initial Graph Nodes: \\n', ssm.graph.nodes(), '\\n'\n",
    "\n",
    "print 'Initial Graph Edges: \\n',ssm.graph.edges(), '\\n'\n",
    "\n",
    "# Decoration of vertices:\n",
    "print 'Initial Node Decoration: \\n', ssm.graph['initial'], '\\n'\n",
    "\n",
    "# Hashing\n",
    "print 'Instance time stame: \\n', ssm.time_stamp, '\\n'\n",
    "print 'Initial instance digest: \\n', ssm.whole_digest, '\\n'\n"
   ]
  },
  {
   "cell_type": "markdown",
   "metadata": {},
   "source": [
    "And here are the initial transaction data. Note that the \"in_data\" are initialized to nonsense."
   ]
  },
  {
   "cell_type": "code",
   "execution_count": 86,
   "metadata": {
    "collapsed": false
   },
   "outputs": [
    {
     "name": "stdout",
     "output_type": "stream",
     "text": [
      "{'meta_data': {'ver': -1, 'lock_time': -1, 'vin_sz': -1, 'hash': '04dd98fa3942ec34c5d330c9d63c703f361355c334a7eb0ac49ebc1dd7891c62', 'size': -1}, 'out_data': {'scrip_pub_key': -1, 'value': -1}, 'in_data': {'hash': '2a51a0eb741b3efd03e5b89152d64f4f1d950c3bbb8c9897d4a5fddaa42105f9', 'n': -1}}\n"
     ]
    }
   ],
   "source": [
    "# Initial transaction (p2p platform only)\n",
    "print(ssm.trans_data.get_as_dict())\n",
    "ssm.export_trans_data(db_file)"
   ]
  },
  {
   "cell_type": "code",
   "execution_count": 90,
   "metadata": {
    "collapsed": false
   },
   "outputs": [
    {
     "name": "stdout",
     "output_type": "stream",
     "text": [
      "Graph structure as string for hashing: \n",
      "{'returned': {}, 'offered': {'insured': {}, 'interested': {}, 'statehashdigest': 'b9904c3dafd378d60747ff74de356b579832b77908c0251cda96e34a318b760f', 'sender': <ecdsa.keys.VerifyingKey instance at 0x7fb789c174d0>, 'signature': 'u\\xed\\x8d=\\x18*ar\\xa2R\\x0c\\x12i\\rd\\xac\\xc8;0\\x9e\\xe9\\xe8`9\\x07\\xa0\\xe3\\x90<\\x88h\\tO\\xe4\\xf6*\\xc1\\xf5\\xda_=\\x93\\xc4\\x0e D\\x082'}, 'initial': {'toby': '04020c7060710fe5ec5311310514268de047e9792d94f763d053b6f5f4a4399daf3e350bb82e00a7df04723840d22dcf6093213dd2f5adcf05bae1353aac93f301', 'offered': {}, 'statehashdigest': '2a51a0eb741b3efd03e5b89152d64f4f1d950c3bbb8c9897d4a5fddaa42105f9'}, 'transferred': {'returned': {}}, 'insured': {}, 'interested': {'transferred': {}}} \n",
      "\n",
      "Instance digest after update: \n",
      "b9904c3dafd378d60747ff74de356b579832b77908c0251cda96e34a318b760f\n",
      "Transaction data after camera offer placed: \n",
      "{'meta_data': {'ver': -1, 'lock_time': -1, 'vin_sz': -1, 'hash': 'b9904c3dafd378d60747ff74de356b579832b77908c0251cda96e34a318b760f', 'size': -1}, 'out_data': {'scrip_pub_key': -1, 'value': -1}, 'in_data': {'hash': '2a51a0eb741b3efd03e5b89152d64f4f1d950c3bbb8c9897d4a5fddaa42105f9', 'n': -1}}\n"
     ]
    }
   ],
   "source": [
    "# Alice offers camera on p2p platform\n",
    "alice_message = 'Anyone interested in my camera? It\\'s a Sony RX100 II'\n",
    "alice_msg_signed = alice_priv.sign(alice_message)\n",
    "# Add decoration to 'offered' node\n",
    "ssm.update_node(node_name = 'offered',\n",
    "                  sender = alice_pub,\n",
    "               signature = alice_msg_signed)\n",
    "\n",
    "print 'Graph structure as string for hashing: \\n', ssm.get_graph_str(), '\\n'\n",
    "print 'Instance digest after update: \\n', ssm.whole_digest\n",
    "# Look at transaction data after node update\n",
    "print 'Transaction data after camera offer placed: \\n', ssm.trans_data.get_as_dict()\n",
    "#Export to data base\n",
    "ssm.export_trans_data(db_file)\n"
   ]
  },
  {
   "cell_type": "code",
   "execution_count": 91,
   "metadata": {
    "collapsed": false
   },
   "outputs": [
    {
     "name": "stdout",
     "output_type": "stream",
     "text": [
      "Graph structure as string for hashing: \n",
      "{'returned': {}, 'offered': {'insured': {}, 'interested': {}, 'statehashdigest': 'b9904c3dafd378d60747ff74de356b579832b77908c0251cda96e34a318b760f', 'sender': <ecdsa.keys.VerifyingKey instance at 0x7fb789c174d0>, 'signature': 'u\\xed\\x8d=\\x18*ar\\xa2R\\x0c\\x12i\\rd\\xac\\xc8;0\\x9e\\xe9\\xe8`9\\x07\\xa0\\xe3\\x90<\\x88h\\tO\\xe4\\xf6*\\xc1\\xf5\\xda_=\\x93\\xc4\\x0e D\\x082'}, 'initial': {'toby': '04020c7060710fe5ec5311310514268de047e9792d94f763d053b6f5f4a4399daf3e350bb82e00a7df04723840d22dcf6093213dd2f5adcf05bae1353aac93f301', 'offered': {}, 'statehashdigest': '2a51a0eb741b3efd03e5b89152d64f4f1d950c3bbb8c9897d4a5fddaa42105f9'}, 'transferred': {'returned': {}}, 'insured': {}, 'interested': {'sender': <ecdsa.keys.VerifyingKey instance at 0x7fb789c17488>, 'statehashdigest': 'b70501bde9f235a06fedd20b43c395267866c2de1381e4ba713ac58e152a34c3', 'transferred': {}, 'signature': '\\xe1\\x92S\\x81\\xbc\\xf2\\x05\\xb1|\\xd7\\x93\\xc4Ln\\xf8\\x11\\x12D\\xef\\x85\\xef\\xe6`\\x1cge\\xdc\\xbd\\xdd\\xfd\\x99S]}S\\xa7\\xb0\\xb8\\x8ay\\xfd\\x87\\xdb\"B\\x10\\xaa\\xfd'}} \n",
      "\n",
      "Instance digest after update: \n",
      "b70501bde9f235a06fedd20b43c395267866c2de1381e4ba713ac58e152a34c3\n",
      "Transaction data after camera offer placed: \n",
      "{'meta_data': {'ver': -1, 'lock_time': -1, 'vin_sz': -1, 'hash': 'b70501bde9f235a06fedd20b43c395267866c2de1381e4ba713ac58e152a34c3', 'size': -1}, 'out_data': {'scrip_pub_key': -1, 'value': -1}, 'in_data': {'hash': 'b9904c3dafd378d60747ff74de356b579832b77908c0251cda96e34a318b760f', 'n': -1}}\n"
     ]
    }
   ],
   "source": [
    "# Bob sees the post and clicks to ask about the camera\n",
    "bob_message = 'Ohh, a Sony RX100 II. I would like to borrow it.'\n",
    "bob_msg_signed = bob_priv.sign(bob_message)\n",
    "# Add decoration to 'offered' node\n",
    "ssm.update_node(node_name = 'interested',\n",
    "                  sender = bob_pub,\n",
    "               signature = bob_msg_signed)\n",
    "\n",
    "print 'Graph structure as string for hashing: \\n', ssm.get_graph_str(), '\\n'\n",
    "print 'Instance digest after update: \\n', ssm.whole_digest\n",
    "# Look at transaction data after node update\n",
    "print 'Transaction data after camera offer placed: \\n', ssm.trans_data.get_as_dict()\n",
    "#Export to data base\n",
    "ssm.export_trans_data(db_file)\n"
   ]
  },
  {
   "cell_type": "code",
   "execution_count": 93,
   "metadata": {
    "collapsed": false
   },
   "outputs": [
    {
     "name": "stdout",
     "output_type": "stream",
     "text": [
      "Graph structure as string for hashing: \n",
      "{'returned': {}, 'offered': {'insured': {}, 'interested': {}, 'statehashdigest': 'b9904c3dafd378d60747ff74de356b579832b77908c0251cda96e34a318b760f', 'sender': <ecdsa.keys.VerifyingKey instance at 0x7fb789c174d0>, 'signature': 'u\\xed\\x8d=\\x18*ar\\xa2R\\x0c\\x12i\\rd\\xac\\xc8;0\\x9e\\xe9\\xe8`9\\x07\\xa0\\xe3\\x90<\\x88h\\tO\\xe4\\xf6*\\xc1\\xf5\\xda_=\\x93\\xc4\\x0e D\\x082'}, 'initial': {'toby': '04020c7060710fe5ec5311310514268de047e9792d94f763d053b6f5f4a4399daf3e350bb82e00a7df04723840d22dcf6093213dd2f5adcf05bae1353aac93f301', 'offered': {}, 'statehashdigest': '2a51a0eb741b3efd03e5b89152d64f4f1d950c3bbb8c9897d4a5fddaa42105f9'}, 'transferred': {'returned': {}}, 'insured': {'statehashdigest': '49532826e1eb795999e5c2269586b422cb0890b919e7bfc817d458c46d89825d', 'sender': <ecdsa.keys.VerifyingKey instance at 0x7fb789ba0d88>, 'signature': \"\\xa5'\\xd5\\x1e)\\xe3\\xc9aa\\x93\\x03z\\xa7\\xe8\\x04\\xbc\\x8b&\\xbb+f\\x05/\\x00w\\xc5i\\xd4\\xe5L\\xcfIfU:\\xf3\\xce\\x99\\xd5\\xb8\\xa6D_\\xfa\\x11eI\\xbe\"}, 'interested': {'sender': <ecdsa.keys.VerifyingKey instance at 0x7fb789c17488>, 'statehashdigest': 'b70501bde9f235a06fedd20b43c395267866c2de1381e4ba713ac58e152a34c3', 'transferred': {}, 'signature': '\\xe1\\x92S\\x81\\xbc\\xf2\\x05\\xb1|\\xd7\\x93\\xc4Ln\\xf8\\x11\\x12D\\xef\\x85\\xef\\xe6`\\x1cge\\xdc\\xbd\\xdd\\xfd\\x99S]}S\\xa7\\xb0\\xb8\\x8ay\\xfd\\x87\\xdb\"B\\x10\\xaa\\xfd'}} \n",
      "\n",
      "Instance digest after update: \n",
      "49532826e1eb795999e5c2269586b422cb0890b919e7bfc817d458c46d89825d\n",
      "Transaction data after camera offer placed: \n",
      "{'meta_data': {'ver': -1, 'lock_time': -1, 'vin_sz': -1, 'hash': '49532826e1eb795999e5c2269586b422cb0890b919e7bfc817d458c46d89825d', 'size': -1}, 'out_data': {'scrip_pub_key': -1, 'value': -1}, 'in_data': {'hash': 'b9904c3dafd378d60747ff74de356b579832b77908c0251cda96e34a318b760f', 'n': -1}}\n"
     ]
    }
   ],
   "source": [
    "# Alice sees that Bob is interested, and applies for microinsurance with AZ\n",
    "\n",
    "az_message = 'We can insure your Sony RX100 II for xyz under conditions abc'\n",
    "az_msg_signed = az_priv.sign(az_message)\n",
    "# Add decoration to 'offered' node\n",
    "ssm.update_node(node_name = 'insured',\n",
    "                  sender = az_pub,\n",
    "               signature = az_msg_signed)\n",
    "\n",
    "print 'Graph structure as string for hashing: \\n', ssm.get_graph_str(), '\\n'\n",
    "print 'Instance digest after update: \\n', ssm.whole_digest\n",
    "# Look at transaction data after node update\n",
    "print 'Transaction data after camera offer placed: \\n', ssm.trans_data.get_as_dict()\n",
    "#Export to data base\n",
    "ssm.export_trans_data(db_file)"
   ]
  },
  {
   "cell_type": "code",
   "execution_count": 103,
   "metadata": {
    "collapsed": false
   },
   "outputs": [
    {
     "name": "stdout",
     "output_type": "stream",
     "text": [
      "True\n"
     ]
    }
   ],
   "source": [
    "# Alice checks that insurance has been offered,\n",
    "# and verifies that it is AZ that signed the offer\n",
    "\n",
    "ssm.graph['insured']\n",
    "check_az_key = ssm.graph['insured']['sender']\n",
    "print(check_az_key.verify(ssm.graph['insured']['signature'], az_message))\n"
   ]
  },
  {
   "cell_type": "code",
   "execution_count": 105,
   "metadata": {
    "collapsed": false
   },
   "outputs": [
    {
     "name": "stdout",
     "output_type": "stream",
     "text": [
      "Graph structure as string for hashing: \n",
      "{'returned': {}, 'offered': {'insured': {}, 'interested': {}, 'statehashdigest': 'b9904c3dafd378d60747ff74de356b579832b77908c0251cda96e34a318b760f', 'sender': <ecdsa.keys.VerifyingKey instance at 0x7fb789c174d0>, 'signature': 'u\\xed\\x8d=\\x18*ar\\xa2R\\x0c\\x12i\\rd\\xac\\xc8;0\\x9e\\xe9\\xe8`9\\x07\\xa0\\xe3\\x90<\\x88h\\tO\\xe4\\xf6*\\xc1\\xf5\\xda_=\\x93\\xc4\\x0e D\\x082'}, 'initial': {'toby': '04020c7060710fe5ec5311310514268de047e9792d94f763d053b6f5f4a4399daf3e350bb82e00a7df04723840d22dcf6093213dd2f5adcf05bae1353aac93f301', 'offered': {}, 'statehashdigest': '2a51a0eb741b3efd03e5b89152d64f4f1d950c3bbb8c9897d4a5fddaa42105f9'}, 'transferred': {'sender': <ecdsa.keys.VerifyingKey instance at 0x7fb789c3f8c0>, 'statehashdigest': '49c9b18ad052311a41ca75645b832a6461767b0d1f17b1ef63254ff26123e8b3', 'returned': {}, 'signature': '\\xc6\\x03\\xb5\\xe2\\x82&$\\x92\\xc3~\\xce\\x8dL\\xcfn\\xad\\x0e(\\\\\\x82~ \\xccv\\xa6\\x0f;\\xa7\\xd0\\xa1\\xfcnzA@<\\x88tJ\\xb2\\x85[\\xe6<\\xfdA\\x1d\\xb0'}, 'insured': {'statehashdigest': '49532826e1eb795999e5c2269586b422cb0890b919e7bfc817d458c46d89825d', 'sender': <ecdsa.keys.VerifyingKey instance at 0x7fb789ba0d88>, 'signature': \"\\xa5'\\xd5\\x1e)\\xe3\\xc9aa\\x93\\x03z\\xa7\\xe8\\x04\\xbc\\x8b&\\xbb+f\\x05/\\x00w\\xc5i\\xd4\\xe5L\\xcfIfU:\\xf3\\xce\\x99\\xd5\\xb8\\xa6D_\\xfa\\x11eI\\xbe\"}, 'interested': {'sender': <ecdsa.keys.VerifyingKey instance at 0x7fb789c17488>, 'statehashdigest': 'b70501bde9f235a06fedd20b43c395267866c2de1381e4ba713ac58e152a34c3', 'transferred': {}, 'signature': '\\xe1\\x92S\\x81\\xbc\\xf2\\x05\\xb1|\\xd7\\x93\\xc4Ln\\xf8\\x11\\x12D\\xef\\x85\\xef\\xe6`\\x1cge\\xdc\\xbd\\xdd\\xfd\\x99S]}S\\xa7\\xb0\\xb8\\x8ay\\xfd\\x87\\xdb\"B\\x10\\xaa\\xfd'}} \n",
      "\n",
      "Instance digest after update: \n",
      "49c9b18ad052311a41ca75645b832a6461767b0d1f17b1ef63254ff26123e8b3\n",
      "Transaction data after camera offer placed: \n",
      "{'meta_data': {'ver': -1, 'lock_time': -1, 'vin_sz': -1, 'hash': '49c9b18ad052311a41ca75645b832a6461767b0d1f17b1ef63254ff26123e8b3', 'size': -1}, 'out_data': {'scrip_pub_key': -1, 'value': -1}, 'in_data': {'hash': 'b70501bde9f235a06fedd20b43c395267866c2de1381e4ba713ac58e152a34c3', 'n': -1}}\n"
     ]
    }
   ],
   "source": [
    "# Alice ships the camera to Bob\n",
    "shipped_message = 'The camera has been shipped via DHL nr 31415926535'\n",
    "alice_ship_signed = alice_priv.sign(shipped_message)\n",
    "# Add decoration to 'offered' node\n",
    "ssm.update_node(node_name = 'transferred',\n",
    "                  sender = alice_pub,\n",
    "               signature = alice_ship_signed)\n",
    "\n",
    "print 'Graph structure as string for hashing: \\n', ssm.get_graph_str(), '\\n'\n",
    "print 'Instance digest after update: \\n', ssm.whole_digest\n",
    "# Look at transaction data after node update\n",
    "print 'Transaction data after camera offer placed: \\n', ssm.trans_data.get_as_dict()\n",
    "#Export to data base\n",
    "ssm.export_trans_data(db_file)"
   ]
  },
  {
   "cell_type": "code",
   "execution_count": null,
   "metadata": {
    "collapsed": true
   },
   "outputs": [],
   "source": [
    "# Happy Ending\n",
    "# Bob returns the camera to Alice\n",
    "returned_message = 'The camera was great, shipped back via DHL nr 271828'\n",
    "bob_ship_signed = bob_priv.sign(returned_message)\n",
    "# Add decoration to 'offered' node\n",
    "ssm.update_node(node_name = 'transferred',\n",
    "                  sender = alice_pub,\n",
    "               signature = alice_ship_signed)\n",
    "\n",
    "print 'Graph structure as string for hashing: \\n', ssm.get_graph_str(), '\\n'\n",
    "print 'Instance digest after update: \\n', ssm.whole_digest\n",
    "# Look at transaction data after node update\n",
    "print 'Transaction data after camera offer placed: \\n', ssm.trans_data.get_as_dict()\n",
    "#Export to data base\n",
    "ssm.export_trans_data(db_file)"
   ]
  },
  {
   "cell_type": "code",
   "execution_count": null,
   "metadata": {
    "collapsed": true
   },
   "outputs": [],
   "source": [
    "# Alternative ending\n",
    "# Bob doesn't return camera, AZ pays out claim (coming soon . . .)"
   ]
  }
 ],
 "metadata": {
  "kernelspec": {
   "display_name": "Python 2",
   "language": "python",
   "name": "python2"
  },
  "language_info": {
   "codemirror_mode": {
    "name": "ipython",
    "version": 2
   },
   "file_extension": ".py",
   "mimetype": "text/x-python",
   "name": "python",
   "nbconvert_exporter": "python",
   "pygments_lexer": "ipython2",
   "version": "2.7.11+"
  }
 },
 "nbformat": 4,
 "nbformat_minor": 0
}
