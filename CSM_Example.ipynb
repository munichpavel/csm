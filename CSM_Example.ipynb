{
 "cells": [
  {
   "cell_type": "markdown",
   "metadata": {},
   "source": [
    "# Example of cryptostatemachine\n",
    "Simulate P2P thing-lending with microinsurance with Python module *cryptostatemachine*\n",
    "\n",
    "## Characters\n",
    "Alice: Has digital camera she rarely uses\n",
    "\n",
    "Bob: Wants digital camera for family bbq next weekend\n",
    "\n",
    "AZ: Offers novel, exciting microinsurance solutions on the blockchain\n",
    "\n",
    "## Data structures\n",
    "*StateMachine*: a directed-graph based Python class implementation of a state-machine with interactions encoded in both the graph structure and ornamentation. As state evolves, crytpographic Bitcoin-like transaction data is exported to a database (currently json file, next step: blockchain)\n",
    "\n",
    "*SimpleSM*: descendant of StateMachine, with fixed graph structure for simplest P2P thing-lending work flows."
   ]
  },
  {
   "cell_type": "code",
   "execution_count": 118,
   "metadata": {
    "collapsed": false
   },
   "outputs": [],
   "source": [
    "import os\n",
    "import sys\n",
    "import ecdsa as ec #Pure Python elliptic curve cryptography\n",
    "import binascii as ba"
   ]
  },
  {
   "cell_type": "code",
   "execution_count": 119,
   "metadata": {
    "collapsed": false
   },
   "outputs": [],
   "source": [
    "# Attach local path where \n",
    "module_path = os.path.abspath(os.path.join('PycharmProjects/csm'))\n",
    "\n",
    "if module_path not in sys.path:\n",
    "    sys.path.append(module_path)\n"
   ]
  },
  {
   "cell_type": "code",
   "execution_count": 120,
   "metadata": {
    "collapsed": false
   },
   "outputs": [
    {
     "data": {
      "text/plain": [
       "<module 'cryptostatemachine.cryptostatemachine' from '/home/pavel/PycharmProjects/csm/cryptostatemachine/cryptostatemachine.pyc'>"
      ]
     },
     "execution_count": 120,
     "metadata": {},
     "output_type": "execute_result"
    }
   ],
   "source": [
    "import cryptostatemachine.cryptostatemachine as csm\n",
    "reload(csm)"
   ]
  },
  {
   "cell_type": "markdown",
   "metadata": {},
   "source": [
    "Define the characters"
   ]
  },
  {
   "cell_type": "code",
   "execution_count": 121,
   "metadata": {
    "collapsed": false
   },
   "outputs": [
    {
     "name": "stdout",
     "output_type": "stream",
     "text": [
      "Alice's public key: 48f31de94f8c7320e1a6d29c26f3c214e662aed6dc89d59c991779b21154338efcfc1b51ad2066aefff410044fec6fc4 \n",
      "\n",
      "Bob's public key: ab7936d0d34f780e82c636dd8d3ea8b984ec3477f5f9b0f31dfb90e42f46ce5536dea6ea4da472885ad0cb6b38b65335 \n",
      "\n",
      "AZ public key: 3c9cb031fac68145079e612d99a45e7fa3c0ad9939218ba370de2161b12571aa7b68518573e16b7992d8822b3bd798bf \n",
      "\n"
     ]
    }
   ],
   "source": [
    "# Issuer\n",
    "alice_priv = ec.SigningKey.generate()\n",
    "alice_priv_hex = ba.b2a_hex(alice_priv.to_string())\n",
    "alice_pub = alice_priv.get_verifying_key()\n",
    "alice_pub_hex = ba.b2a_hex(alice_pub.to_string())\n",
    "print 'Alice\\'s public key:', alice_pub_hex, '\\n'\n",
    "\n",
    "# Interested party\n",
    "bob_priv = ec.SigningKey.generate()\n",
    "bob_priv_hex = ba.b2a_hex(bob_priv.to_string())\n",
    "bob_pub = bob_priv.get_verifying_key()\n",
    "bob_pub_hex = ba.b2a_hex(bob_pub.to_string())\n",
    "print 'Bob\\'s public key:', bob_pub_hex, '\\n'\n",
    "\n",
    "# Microinsurer\n",
    "az_priv = ec.SigningKey.generate()\n",
    "az_priv_hex = ba.b2a_hex(az_priv.to_string())\n",
    "az_pub = az_priv.get_verifying_key()\n",
    "az_pub_hex = ba.b2a_hex(az_pub.to_string())\n",
    "print 'AZ public key:', az_pub_hex, '\\n'\n",
    "\n",
    "# P2P platform\n",
    "p2p_priv = ec.SigningKey.generate()\n",
    "p2p_priv_hex = ba.b2a_hex(p2p_priv.to_string())\n",
    "p2p_pub = p2p_priv.get_verifying_key()\n",
    "p2p_pub_hex = ba.b2a_hex(p2p_pub.to_string())\n",
    "#print 'P2P public key:', p2p_pub\n",
    "\n",
    "# JSON file to hold transaction data for blockchain (mock-up)\n",
    "db_file = 'p2pthing.json' # Output file for transaction data\n"
   ]
  },
  {
   "cell_type": "markdown",
   "metadata": {},
   "source": [
    "Let's look at what is inside an instance of a simple csm."
   ]
  },
  {
   "cell_type": "code",
   "execution_count": 122,
   "metadata": {
    "collapsed": false
   },
   "outputs": [
    {
     "name": "stdout",
     "output_type": "stream",
     "text": [
      "Initial Graph Nodes: \n",
      "['returned', 'offered', 'initial', 'transferred', 'insured', 'interested'] \n",
      "\n",
      "Initial Graph Edges: \n",
      "[('offered', 'insured'), ('offered', 'interested'), ('initial', 'offered'), ('initial', 'statehashdigest'), ('initial', 'sender'), ('initial', 'signature'), ('transferred', 'returned'), ('interested', 'transferred')] \n",
      "\n",
      "Initial Node Decoration: \n",
      "{'offered': {}, 'statehashdigest': '3a183b2d42d6d015f6bd8b4ba8cc1510b8a8591cf2227db06e567002bd56cc3e', 'sender': 'faacca4841027c3e00feba6e08fbc03af6915f23b6d10f46672f38f016884ed4b548432799610d599a6f0fffdb806950', 'signature': 'd46b324869233f5a1e7a2db89be0b531cd9b05365e985c132f8fa467014ad6a1fd2f11d5c43df92c66c28abf41cb06a6'} \n",
      "\n",
      "Instance time stame: \n",
      "86a3a76f5b3918608d62e37826e1c239678efbc18113136cca4bf0016c0d84b3 \n",
      "\n",
      "Initial instance digest: \n",
      "3a183b2d42d6d015f6bd8b4ba8cc1510b8a8591cf2227db06e567002bd56cc3e \n",
      "\n"
     ]
    }
   ],
   "source": [
    "# Post offer of camera on P2P platform, back-end creates instance of SimpleSM\n",
    "p2p_message = 'It looks like Alice wants to post a camera on our platform'\n",
    "p2p_msg_signed = ba.b2a_hex(p2p_priv.sign(p2p_message))\n",
    "ssm = csm.SimpleSM(p2p_pub_hex, p2p_msg_signed) # Initialize, and track which p2p platform is calling\n",
    "# Initial graph\n",
    "\n",
    "print 'Initial Graph Nodes: \\n', ssm.graph.nodes(), '\\n'\n",
    "\n",
    "print 'Initial Graph Edges: \\n',ssm.graph.edges(), '\\n'\n",
    "\n",
    "# Decoration of vertices:\n",
    "print 'Initial Node Decoration: \\n', ssm.graph['initial'], '\\n'\n",
    "\n",
    "# Hashing\n",
    "print 'Instance time stame: \\n', ssm.time_stamp, '\\n'\n",
    "print 'Initial instance digest: \\n', ssm.whole_digest, '\\n'\n"
   ]
  },
  {
   "cell_type": "markdown",
   "metadata": {},
   "source": [
    "And here are the initial transaction data. Note that the \"in_data\" are initialized to nonsense."
   ]
  },
  {
   "cell_type": "code",
   "execution_count": 123,
   "metadata": {
    "collapsed": false
   },
   "outputs": [
    {
     "name": "stdout",
     "output_type": "stream",
     "text": [
      "{'meta_data': {'ver': -1, 'lock_time': -1, 'vin_sz': -1, 'hash': '3a183b2d42d6d015f6bd8b4ba8cc1510b8a8591cf2227db06e567002bd56cc3e', 'size': -1}, 'out_data': {'scrip_pub_key': -1, 'value': -1}, 'in_data': {'hash': -1, 'n': -1}}\n"
     ]
    }
   ],
   "source": [
    "# Initial transaction (p2p platform only)\n",
    "print(ssm.trans_data.get_as_dict())\n",
    "ssm.export_trans_data(db_file)"
   ]
  },
  {
   "cell_type": "code",
   "execution_count": 124,
   "metadata": {
    "collapsed": false
   },
   "outputs": [
    {
     "name": "stdout",
     "output_type": "stream",
     "text": [
      "Graph structure as string for hashing: \n",
      "{'returned': {}, 'offered': {'insured': {}, 'interested': {}, 'statehashdigest': '8c14d05bb39d13c89f812fbb623076c34b3a675fff590deb61502d3dc6c7bcb6', 'sender': '48f31de94f8c7320e1a6d29c26f3c214e662aed6dc89d59c991779b21154338efcfc1b51ad2066aefff410044fec6fc4', 'signature': '01bbd1e9d40e05f0050949447b4bc9b4027ae7a6abb98d6089e81e6a5ace9a06466bc49e3838a67e4fb25d68351e28ca'}, 'initial': {'offered': {}, 'statehashdigest': '3a183b2d42d6d015f6bd8b4ba8cc1510b8a8591cf2227db06e567002bd56cc3e', 'sender': 'faacca4841027c3e00feba6e08fbc03af6915f23b6d10f46672f38f016884ed4b548432799610d599a6f0fffdb806950', 'signature': 'd46b324869233f5a1e7a2db89be0b531cd9b05365e985c132f8fa467014ad6a1fd2f11d5c43df92c66c28abf41cb06a6'}, 'transferred': {'returned': {}}, 'insured': {}, 'interested': {'transferred': {}}} \n",
      "\n",
      "Instance digest after update: \n",
      "8c14d05bb39d13c89f812fbb623076c34b3a675fff590deb61502d3dc6c7bcb6\n",
      "Transaction data after camera offer placed: \n",
      "{'meta_data': {'ver': -1, 'lock_time': -1, 'vin_sz': -1, 'hash': '8c14d05bb39d13c89f812fbb623076c34b3a675fff590deb61502d3dc6c7bcb6', 'size': -1}, 'out_data': {'scrip_pub_key': -1, 'value': -1}, 'in_data': {'hash': '3a183b2d42d6d015f6bd8b4ba8cc1510b8a8591cf2227db06e567002bd56cc3e', 'n': -1}}\n"
     ]
    }
   ],
   "source": [
    "# Alice offers camera on p2p platform\n",
    "alice_message = 'Anyone interested in my camera? It\\'s a Sony RX100 II'\n",
    "alice_msg_signed = ba.b2a_hex(alice_priv.sign(alice_message))\n",
    "# Add decoration to 'offered' node\n",
    "ssm.update_node(node_name = 'offered',\n",
    "                  sender = alice_pub_hex,\n",
    "               signature = alice_msg_signed)\n",
    "\n",
    "print 'Graph structure as string for hashing: \\n', ssm.get_graph_str(), '\\n'\n",
    "print 'Instance digest after update: \\n', ssm.whole_digest\n",
    "# Look at transaction data after node update\n",
    "print 'Transaction data after camera offer placed: \\n', ssm.trans_data.get_as_dict()\n",
    "#Export to data base\n",
    "ssm.export_trans_data(db_file)\n"
   ]
  },
  {
   "cell_type": "code",
   "execution_count": 125,
   "metadata": {
    "collapsed": false
   },
   "outputs": [
    {
     "name": "stdout",
     "output_type": "stream",
     "text": [
      "Graph structure as string for hashing: \n",
      "{'returned': {}, 'offered': {'insured': {}, 'interested': {}, 'statehashdigest': '8c14d05bb39d13c89f812fbb623076c34b3a675fff590deb61502d3dc6c7bcb6', 'sender': '48f31de94f8c7320e1a6d29c26f3c214e662aed6dc89d59c991779b21154338efcfc1b51ad2066aefff410044fec6fc4', 'signature': '01bbd1e9d40e05f0050949447b4bc9b4027ae7a6abb98d6089e81e6a5ace9a06466bc49e3838a67e4fb25d68351e28ca'}, 'initial': {'offered': {}, 'statehashdigest': '3a183b2d42d6d015f6bd8b4ba8cc1510b8a8591cf2227db06e567002bd56cc3e', 'sender': 'faacca4841027c3e00feba6e08fbc03af6915f23b6d10f46672f38f016884ed4b548432799610d599a6f0fffdb806950', 'signature': 'd46b324869233f5a1e7a2db89be0b531cd9b05365e985c132f8fa467014ad6a1fd2f11d5c43df92c66c28abf41cb06a6'}, 'transferred': {'returned': {}}, 'insured': {}, 'interested': {'sender': 'ab7936d0d34f780e82c636dd8d3ea8b984ec3477f5f9b0f31dfb90e42f46ce5536dea6ea4da472885ad0cb6b38b65335', 'statehashdigest': '299b2841f40b7968ce47df4a3108629497680b2373ff955930d1fbcf043c5b8a', 'transferred': {}, 'signature': '4a24b1494a51de401099be818a514523485c5b834d9207ba50d8e90d7c80792b0985bdf66da504184372b22154797662'}} \n",
      "\n",
      "Instance digest after update: \n",
      "299b2841f40b7968ce47df4a3108629497680b2373ff955930d1fbcf043c5b8a\n",
      "Transaction data after camera offer placed: \n",
      "{'meta_data': {'ver': -1, 'lock_time': -1, 'vin_sz': -1, 'hash': '299b2841f40b7968ce47df4a3108629497680b2373ff955930d1fbcf043c5b8a', 'size': -1}, 'out_data': {'scrip_pub_key': -1, 'value': -1}, 'in_data': {'hash': '8c14d05bb39d13c89f812fbb623076c34b3a675fff590deb61502d3dc6c7bcb6', 'n': -1}}\n"
     ]
    }
   ],
   "source": [
    "# Bob sees the post and clicks to ask about the camera\n",
    "bob_message = 'Ohh, a Sony RX100 II. I would like to borrow it.'\n",
    "bob_msg_signed = ba.b2a_hex(bob_priv.sign(bob_message))\n",
    "# Add decoration to 'offered' node\n",
    "ssm.update_node(node_name = 'interested',\n",
    "                  sender = bob_pub_hex,\n",
    "               signature = bob_msg_signed)\n",
    "\n",
    "print 'Graph structure as string for hashing: \\n', ssm.get_graph_str(), '\\n'\n",
    "print 'Instance digest after update: \\n', ssm.whole_digest\n",
    "# Look at transaction data after node update\n",
    "print 'Transaction data after camera offer placed: \\n', ssm.trans_data.get_as_dict()\n",
    "#Export to data base\n",
    "ssm.export_trans_data(db_file)\n"
   ]
  },
  {
   "cell_type": "code",
   "execution_count": 126,
   "metadata": {
    "collapsed": false
   },
   "outputs": [
    {
     "name": "stdout",
     "output_type": "stream",
     "text": [
      "Graph structure as string for hashing: \n",
      "{'returned': {}, 'offered': {'insured': {}, 'interested': {}, 'statehashdigest': '8c14d05bb39d13c89f812fbb623076c34b3a675fff590deb61502d3dc6c7bcb6', 'sender': '48f31de94f8c7320e1a6d29c26f3c214e662aed6dc89d59c991779b21154338efcfc1b51ad2066aefff410044fec6fc4', 'signature': '01bbd1e9d40e05f0050949447b4bc9b4027ae7a6abb98d6089e81e6a5ace9a06466bc49e3838a67e4fb25d68351e28ca'}, 'initial': {'offered': {}, 'statehashdigest': '3a183b2d42d6d015f6bd8b4ba8cc1510b8a8591cf2227db06e567002bd56cc3e', 'sender': 'faacca4841027c3e00feba6e08fbc03af6915f23b6d10f46672f38f016884ed4b548432799610d599a6f0fffdb806950', 'signature': 'd46b324869233f5a1e7a2db89be0b531cd9b05365e985c132f8fa467014ad6a1fd2f11d5c43df92c66c28abf41cb06a6'}, 'transferred': {'returned': {}}, 'insured': {'statehashdigest': '44e193a1c889ee9f958e7b8382fa32c97843b62252aace10b11bc4e8654f798b', 'sender': '3c9cb031fac68145079e612d99a45e7fa3c0ad9939218ba370de2161b12571aa7b68518573e16b7992d8822b3bd798bf', 'signature': '6fcb994fa58491e85ba14f64543d53512a12ef4d7b70dabddadfabbea4b26621cfa53e42c29c7653051583c32880a468'}, 'interested': {'sender': 'ab7936d0d34f780e82c636dd8d3ea8b984ec3477f5f9b0f31dfb90e42f46ce5536dea6ea4da472885ad0cb6b38b65335', 'statehashdigest': '299b2841f40b7968ce47df4a3108629497680b2373ff955930d1fbcf043c5b8a', 'transferred': {}, 'signature': '4a24b1494a51de401099be818a514523485c5b834d9207ba50d8e90d7c80792b0985bdf66da504184372b22154797662'}} \n",
      "\n",
      "Instance digest after update: \n",
      "44e193a1c889ee9f958e7b8382fa32c97843b62252aace10b11bc4e8654f798b\n",
      "Transaction data after camera offer placed: \n",
      "{'meta_data': {'ver': -1, 'lock_time': -1, 'vin_sz': -1, 'hash': '44e193a1c889ee9f958e7b8382fa32c97843b62252aace10b11bc4e8654f798b', 'size': -1}, 'out_data': {'scrip_pub_key': -1, 'value': -1}, 'in_data': {'hash': '8c14d05bb39d13c89f812fbb623076c34b3a675fff590deb61502d3dc6c7bcb6', 'n': -1}}\n"
     ]
    }
   ],
   "source": [
    "# Alice sees that Bob is interested, and applies for microinsurance with AZ\n",
    "\n",
    "az_message = 'We can insure your Sony RX100 II for xyz under conditions abc'\n",
    "az_msg_signed = az_priv.sign(az_message)\n",
    "az_signed_hex = ba.b2a_hex(az_msg_signed)\n",
    "# Add decoration to 'offered' node\n",
    "ssm.update_node(node_name = 'insured',\n",
    "                  sender = az_pub_hex,\n",
    "               signature = az_signed_hex)\n",
    "\n",
    "print 'Graph structure as string for hashing: \\n', ssm.get_graph_str(), '\\n'\n",
    "print 'Instance digest after update: \\n', ssm.whole_digest\n",
    "# Look at transaction data after node update\n",
    "print 'Transaction data after camera offer placed: \\n', ssm.trans_data.get_as_dict()\n",
    "#Export to data base\n",
    "ssm.export_trans_data(db_file)"
   ]
  },
  {
   "cell_type": "code",
   "execution_count": 127,
   "metadata": {
    "collapsed": false
   },
   "outputs": [
    {
     "name": "stdout",
     "output_type": "stream",
     "text": [
      "True\n",
      "True\n"
     ]
    }
   ],
   "source": [
    "# Alice checks that insurance has been offered,\n",
    "# and verifies that it is AZ that signed the offer\n",
    "\n",
    "ssm.graph['insured']\n",
    "check_az_key = ssm.graph['insured']['sender']\n",
    "print check_az_key == az_pub_hex\n",
    "\n",
    "print az_pub.verify(az_msg_signed, az_message) #TODO put instances in graph, not just hexes\n"
   ]
  },
  {
   "cell_type": "code",
   "execution_count": 128,
   "metadata": {
    "collapsed": false
   },
   "outputs": [
    {
     "name": "stdout",
     "output_type": "stream",
     "text": [
      "Graph structure as string for hashing: \n",
      "{'returned': {}, 'offered': {'insured': {}, 'interested': {}, 'statehashdigest': '8c14d05bb39d13c89f812fbb623076c34b3a675fff590deb61502d3dc6c7bcb6', 'sender': '48f31de94f8c7320e1a6d29c26f3c214e662aed6dc89d59c991779b21154338efcfc1b51ad2066aefff410044fec6fc4', 'signature': '01bbd1e9d40e05f0050949447b4bc9b4027ae7a6abb98d6089e81e6a5ace9a06466bc49e3838a67e4fb25d68351e28ca'}, 'initial': {'offered': {}, 'statehashdigest': '3a183b2d42d6d015f6bd8b4ba8cc1510b8a8591cf2227db06e567002bd56cc3e', 'sender': 'faacca4841027c3e00feba6e08fbc03af6915f23b6d10f46672f38f016884ed4b548432799610d599a6f0fffdb806950', 'signature': 'd46b324869233f5a1e7a2db89be0b531cd9b05365e985c132f8fa467014ad6a1fd2f11d5c43df92c66c28abf41cb06a6'}, 'transferred': {'sender': '48f31de94f8c7320e1a6d29c26f3c214e662aed6dc89d59c991779b21154338efcfc1b51ad2066aefff410044fec6fc4', 'statehashdigest': '0929692238ecd92630cbd7ee7260e557b04534ebc52fa77b107b681442e78250', 'returned': {}, 'signature': 'a2494efe3bf97a43ac4563c37cb601e14107b043176ad3069f5356569a4df06df629fb879fa26d69edfa7abc37b0904f'}, 'insured': {'statehashdigest': '44e193a1c889ee9f958e7b8382fa32c97843b62252aace10b11bc4e8654f798b', 'sender': '3c9cb031fac68145079e612d99a45e7fa3c0ad9939218ba370de2161b12571aa7b68518573e16b7992d8822b3bd798bf', 'signature': '6fcb994fa58491e85ba14f64543d53512a12ef4d7b70dabddadfabbea4b26621cfa53e42c29c7653051583c32880a468'}, 'interested': {'sender': 'ab7936d0d34f780e82c636dd8d3ea8b984ec3477f5f9b0f31dfb90e42f46ce5536dea6ea4da472885ad0cb6b38b65335', 'statehashdigest': '299b2841f40b7968ce47df4a3108629497680b2373ff955930d1fbcf043c5b8a', 'transferred': {}, 'signature': '4a24b1494a51de401099be818a514523485c5b834d9207ba50d8e90d7c80792b0985bdf66da504184372b22154797662'}} \n",
      "\n",
      "Instance digest after update: \n",
      "0929692238ecd92630cbd7ee7260e557b04534ebc52fa77b107b681442e78250\n",
      "Transaction data after camera offer placed: \n",
      "{'meta_data': {'ver': -1, 'lock_time': -1, 'vin_sz': -1, 'hash': '0929692238ecd92630cbd7ee7260e557b04534ebc52fa77b107b681442e78250', 'size': -1}, 'out_data': {'scrip_pub_key': -1, 'value': -1}, 'in_data': {'hash': '299b2841f40b7968ce47df4a3108629497680b2373ff955930d1fbcf043c5b8a', 'n': -1}}\n"
     ]
    }
   ],
   "source": [
    "# Alice ships the camera to Bob\n",
    "shipped_message = 'The camera has been shipped via DHL nr 31415926535'\n",
    "alice_ship_signed = ba.b2a_hex(alice_priv.sign(shipped_message))\n",
    "# Add decoration to 'offered' node\n",
    "ssm.update_node(node_name = 'transferred',\n",
    "                  sender = alice_pub_hex,\n",
    "               signature = alice_ship_signed)\n",
    "\n",
    "print 'Graph structure as string for hashing: \\n', ssm.get_graph_str(), '\\n'\n",
    "print 'Instance digest after update: \\n', ssm.whole_digest\n",
    "# Look at transaction data after node update\n",
    "print 'Transaction data after camera offer placed: \\n', ssm.trans_data.get_as_dict()\n",
    "#Export to data base\n",
    "ssm.export_trans_data(db_file)"
   ]
  },
  {
   "cell_type": "code",
   "execution_count": 129,
   "metadata": {
    "collapsed": false
   },
   "outputs": [
    {
     "name": "stdout",
     "output_type": "stream",
     "text": [
      "Graph structure as string for hashing: \n",
      "{'returned': {'statehashdigest': '6d0209a2002a8e37bed7f672971835599634b4380b74aa1494c82fb2b85518bc', 'sender': 'ab7936d0d34f780e82c636dd8d3ea8b984ec3477f5f9b0f31dfb90e42f46ce5536dea6ea4da472885ad0cb6b38b65335', 'signature': 'b7fc75c43a766b71dc3f73f68cd9a928dddf1279a672ae65b87cd81e855159c7a7ac1bd1df6afd66567a09eebb101618'}, 'offered': {'insured': {}, 'interested': {}, 'statehashdigest': '8c14d05bb39d13c89f812fbb623076c34b3a675fff590deb61502d3dc6c7bcb6', 'sender': '48f31de94f8c7320e1a6d29c26f3c214e662aed6dc89d59c991779b21154338efcfc1b51ad2066aefff410044fec6fc4', 'signature': '01bbd1e9d40e05f0050949447b4bc9b4027ae7a6abb98d6089e81e6a5ace9a06466bc49e3838a67e4fb25d68351e28ca'}, 'initial': {'offered': {}, 'statehashdigest': '3a183b2d42d6d015f6bd8b4ba8cc1510b8a8591cf2227db06e567002bd56cc3e', 'sender': 'faacca4841027c3e00feba6e08fbc03af6915f23b6d10f46672f38f016884ed4b548432799610d599a6f0fffdb806950', 'signature': 'd46b324869233f5a1e7a2db89be0b531cd9b05365e985c132f8fa467014ad6a1fd2f11d5c43df92c66c28abf41cb06a6'}, 'transferred': {'sender': '48f31de94f8c7320e1a6d29c26f3c214e662aed6dc89d59c991779b21154338efcfc1b51ad2066aefff410044fec6fc4', 'statehashdigest': '0929692238ecd92630cbd7ee7260e557b04534ebc52fa77b107b681442e78250', 'returned': {}, 'signature': 'a2494efe3bf97a43ac4563c37cb601e14107b043176ad3069f5356569a4df06df629fb879fa26d69edfa7abc37b0904f'}, 'insured': {'statehashdigest': '44e193a1c889ee9f958e7b8382fa32c97843b62252aace10b11bc4e8654f798b', 'sender': '3c9cb031fac68145079e612d99a45e7fa3c0ad9939218ba370de2161b12571aa7b68518573e16b7992d8822b3bd798bf', 'signature': '6fcb994fa58491e85ba14f64543d53512a12ef4d7b70dabddadfabbea4b26621cfa53e42c29c7653051583c32880a468'}, 'interested': {'sender': 'ab7936d0d34f780e82c636dd8d3ea8b984ec3477f5f9b0f31dfb90e42f46ce5536dea6ea4da472885ad0cb6b38b65335', 'statehashdigest': '299b2841f40b7968ce47df4a3108629497680b2373ff955930d1fbcf043c5b8a', 'transferred': {}, 'signature': '4a24b1494a51de401099be818a514523485c5b834d9207ba50d8e90d7c80792b0985bdf66da504184372b22154797662'}} \n",
      "\n",
      "Instance digest after update: \n",
      "6d0209a2002a8e37bed7f672971835599634b4380b74aa1494c82fb2b85518bc\n",
      "Transaction data after camera offer placed: \n",
      "{'meta_data': {'ver': -1, 'lock_time': -1, 'vin_sz': -1, 'hash': '6d0209a2002a8e37bed7f672971835599634b4380b74aa1494c82fb2b85518bc', 'size': -1}, 'out_data': {'scrip_pub_key': -1, 'value': -1}, 'in_data': {'hash': '0929692238ecd92630cbd7ee7260e557b04534ebc52fa77b107b681442e78250', 'n': -1}}\n"
     ]
    }
   ],
   "source": [
    "# Happy Ending\n",
    "# Bob returns the camera to Alice\n",
    "returned_message = 'The camera was great, shipped back via DHL nr 271828'\n",
    "bob_ship_signed = ba.b2a_hex(bob_priv.sign(returned_message))\n",
    "# Add decoration to 'offered' node\n",
    "ssm.update_node(node_name = 'returned',\n",
    "                  sender = bob_pub_hex,\n",
    "               signature = bob_ship_signed)\n",
    "\n",
    "print 'Graph structure as string for hashing: \\n', ssm.get_graph_str(), '\\n'\n",
    "print 'Instance digest after update: \\n', ssm.whole_digest\n",
    "# Look at transaction data after node update\n",
    "print 'Transaction data after camera offer placed: \\n', ssm.trans_data.get_as_dict()\n",
    "#Export to data base\n",
    "ssm.export_trans_data(db_file)"
   ]
  },
  {
   "cell_type": "code",
   "execution_count": 130,
   "metadata": {
    "collapsed": true
   },
   "outputs": [],
   "source": [
    "# Alternative ending\n",
    "# Bob doesn't return camera, AZ pays out claim (coming soon . . .)"
   ]
  }
 ],
 "metadata": {
  "kernelspec": {
   "display_name": "Python 2",
   "language": "python",
   "name": "python2"
  },
  "language_info": {
   "codemirror_mode": {
    "name": "ipython",
    "version": 2
   },
   "file_extension": ".py",
   "mimetype": "text/x-python",
   "name": "python",
   "nbconvert_exporter": "python",
   "pygments_lexer": "ipython2",
   "version": "2.7.11+"
  }
 },
 "nbformat": 4,
 "nbformat_minor": 0
}
